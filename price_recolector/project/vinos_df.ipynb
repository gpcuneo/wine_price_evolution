{
 "cells": [
  {
   "cell_type": "code",
   "execution_count": 1,
   "id": "c83708fb-bce2-479f-87d2-2b74663314c4",
   "metadata": {},
   "outputs": [
    {
     "name": "stdout",
     "output_type": "stream",
     "text": [
      "[]\n"
     ]
    }
   ],
   "source": [
    "from glob import glob\n",
    "import pandas as pd\n",
    "\n",
    "files = glob('./work/*.csv')\n",
    "\n",
    "print(files)"
   ]
  },
  {
   "cell_type": "code",
   "execution_count": 2,
   "id": "538041c3-f2a9-40d6-9f9d-9f69eba3ec2a",
   "metadata": {},
   "outputs": [
    {
     "name": "stdout",
     "output_type": "stream",
     "text": [
      "Empty DataFrame\n",
      "Columns: []\n",
      "Index: []\n"
     ]
    }
   ],
   "source": [
    "df = pd.DataFrame()\n",
    "for file in files:\n",
    "    print(file)\n",
    "    df_temp = pd.read_csv(file)\n",
    "    df = pd.concat([df, df_temp], ignore_index=True)\n",
    "\n",
    "print(df)"
   ]
  },
  {
   "cell_type": "raw",
   "id": "faa7ce9b-8e9d-41de-8ed9-cec6f7b393f1",
   "metadata": {},
   "source": [
    "import datetime \n",
    "#pd.to_datetime(df['fecha'])\n",
    "df['fecha'] = pd.to_datetime(df['fecha'], errors='coerce')\n",
    "print(df)\n",
    "\n",
    "df[(df['vino'] == 'Altocedro Gran Reserva Malbec') & (df['fecha'].dt.month==1)]"
   ]
  },
  {
   "cell_type": "code",
   "execution_count": 40,
   "id": "05877b74-14ef-4842-bd6e-6cf7b190161f",
   "metadata": {},
   "outputs": [
    {
     "data": {
      "text/html": [
       "<div>\n",
       "<style scoped>\n",
       "    .dataframe tbody tr th:only-of-type {\n",
       "        vertical-align: middle;\n",
       "    }\n",
       "\n",
       "    .dataframe tbody tr th {\n",
       "        vertical-align: top;\n",
       "    }\n",
       "\n",
       "    .dataframe thead th {\n",
       "        text-align: right;\n",
       "    }\n",
       "</style>\n",
       "<table border=\"1\" class=\"dataframe\">\n",
       "  <thead>\n",
       "    <tr style=\"text-align: right;\">\n",
       "      <th></th>\n",
       "      <th>vino</th>\n",
       "      <th>bodega</th>\n",
       "      <th>precio</th>\n",
       "      <th>fecha</th>\n",
       "    </tr>\n",
       "  </thead>\n",
       "  <tbody>\n",
       "    <tr>\n",
       "      <th>2962</th>\n",
       "      <td>Pulenta Estate Gran Cabernet Franc</td>\n",
       "      <td>Bodega Pulenta Estate</td>\n",
       "      <td>624</td>\n",
       "      <td>2018-01-01</td>\n",
       "    </tr>\n",
       "    <tr>\n",
       "      <th>16769</th>\n",
       "      <td>Pulenta Estate Gran Cabernet Franc</td>\n",
       "      <td>Bodega Pulenta Estate</td>\n",
       "      <td>825</td>\n",
       "      <td>2019-01-01</td>\n",
       "    </tr>\n",
       "    <tr>\n",
       "      <th>30935</th>\n",
       "      <td>Pulenta Estate Gran Cabernet Franc</td>\n",
       "      <td>Bodega Pulenta Estate</td>\n",
       "      <td>1987</td>\n",
       "      <td>2020-01-01</td>\n",
       "    </tr>\n",
       "    <tr>\n",
       "      <th>46325</th>\n",
       "      <td>Pulenta Estate Gran Cabernet Franc</td>\n",
       "      <td>Bodega Pulenta Estate</td>\n",
       "      <td>2662</td>\n",
       "      <td>2021-01-01</td>\n",
       "    </tr>\n",
       "    <tr>\n",
       "      <th>62153</th>\n",
       "      <td>Pulenta Estate Gran Cabernet Franc</td>\n",
       "      <td>Bodega Pulenta Estate</td>\n",
       "      <td>4762</td>\n",
       "      <td>2022-01-01</td>\n",
       "    </tr>\n",
       "  </tbody>\n",
       "</table>\n",
       "</div>"
      ],
      "text/plain": [
       "                                     vino                 bodega  precio  \\\n",
       "2962   Pulenta Estate Gran Cabernet Franc  Bodega Pulenta Estate     624   \n",
       "16769  Pulenta Estate Gran Cabernet Franc  Bodega Pulenta Estate     825   \n",
       "30935  Pulenta Estate Gran Cabernet Franc  Bodega Pulenta Estate    1987   \n",
       "46325  Pulenta Estate Gran Cabernet Franc  Bodega Pulenta Estate    2662   \n",
       "62153  Pulenta Estate Gran Cabernet Franc  Bodega Pulenta Estate    4762   \n",
       "\n",
       "           fecha  \n",
       "2962  2018-01-01  \n",
       "16769 2019-01-01  \n",
       "30935 2020-01-01  \n",
       "46325 2021-01-01  \n",
       "62153 2022-01-01  "
      ]
     },
     "execution_count": 40,
     "metadata": {},
     "output_type": "execute_result"
    }
   ],
   "source": [
    "df[(df['vino'] == 'Pulenta Estate Gran Cabernet Franc') & (df['fecha'].dt.month==1)]"
   ]
  },
  {
   "cell_type": "code",
   "execution_count": 47,
   "id": "eb827f1f-4bd5-4c60-840d-d7cf401557a0",
   "metadata": {},
   "outputs": [
    {
     "data": {
      "text/html": [
       "<div>\n",
       "<style scoped>\n",
       "    .dataframe tbody tr th:only-of-type {\n",
       "        vertical-align: middle;\n",
       "    }\n",
       "\n",
       "    .dataframe tbody tr th {\n",
       "        vertical-align: top;\n",
       "    }\n",
       "\n",
       "    .dataframe thead th {\n",
       "        text-align: right;\n",
       "    }\n",
       "</style>\n",
       "<table border=\"1\" class=\"dataframe\">\n",
       "  <thead>\n",
       "    <tr style=\"text-align: right;\">\n",
       "      <th></th>\n",
       "      <th>vino</th>\n",
       "      <th>bodega</th>\n",
       "      <th>precio</th>\n",
       "      <th>fecha</th>\n",
       "    </tr>\n",
       "  </thead>\n",
       "  <tbody>\n",
       "    <tr>\n",
       "      <th>2676</th>\n",
       "      <td>Nico by Luca</td>\n",
       "      <td>Laura Catena Wines</td>\n",
       "      <td>1496</td>\n",
       "      <td>2018-01-01</td>\n",
       "    </tr>\n",
       "    <tr>\n",
       "      <th>16436</th>\n",
       "      <td>Nico by Luca</td>\n",
       "      <td>Laura Catena Wines</td>\n",
       "      <td>2385</td>\n",
       "      <td>2019-01-01</td>\n",
       "    </tr>\n",
       "    <tr>\n",
       "      <th>30531</th>\n",
       "      <td>Nico by Luca</td>\n",
       "      <td>Laura Catena Wines – Bodega Luca</td>\n",
       "      <td>3960</td>\n",
       "      <td>2020-01-01</td>\n",
       "    </tr>\n",
       "    <tr>\n",
       "      <th>45860</th>\n",
       "      <td>Nico by Luca</td>\n",
       "      <td>Laura Catena Wines – Bodega Luca</td>\n",
       "      <td>5804</td>\n",
       "      <td>2021-01-01</td>\n",
       "    </tr>\n",
       "    <tr>\n",
       "      <th>61653</th>\n",
       "      <td>Nico by Luca</td>\n",
       "      <td>Laura Catena Wines – Bodega Luca</td>\n",
       "      <td>8736</td>\n",
       "      <td>2022-01-01</td>\n",
       "    </tr>\n",
       "  </tbody>\n",
       "</table>\n",
       "</div>"
      ],
      "text/plain": [
       "               vino                            bodega  precio      fecha\n",
       "2676   Nico by Luca                Laura Catena Wines    1496 2018-01-01\n",
       "16436  Nico by Luca                Laura Catena Wines    2385 2019-01-01\n",
       "30531  Nico by Luca  Laura Catena Wines – Bodega Luca    3960 2020-01-01\n",
       "45860  Nico by Luca  Laura Catena Wines – Bodega Luca    5804 2021-01-01\n",
       "61653  Nico by Luca  Laura Catena Wines – Bodega Luca    8736 2022-01-01"
      ]
     },
     "execution_count": 47,
     "metadata": {},
     "output_type": "execute_result"
    }
   ],
   "source": [
    "df[(df['vino'] == 'Nico by Luca')& (df['fecha'].dt.month==1)]"
   ]
  },
  {
   "cell_type": "code",
   "execution_count": null,
   "id": "10c12320-c6c3-47de-8ea3-5aad8c18c200",
   "metadata": {},
   "outputs": [],
   "source": []
  }
 ],
 "metadata": {
  "kernelspec": {
   "display_name": "Python 3 (ipykernel)",
   "language": "python",
   "name": "python3"
  },
  "language_info": {
   "codemirror_mode": {
    "name": "ipython",
    "version": 3
   },
   "file_extension": ".py",
   "mimetype": "text/x-python",
   "name": "python",
   "nbconvert_exporter": "python",
   "pygments_lexer": "ipython3",
   "version": "3.9.12"
  }
 },
 "nbformat": 4,
 "nbformat_minor": 5
}
