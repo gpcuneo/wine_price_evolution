{
 "cells": [
  {
   "cell_type": "code",
   "execution_count": 4,
   "id": "e378e240-a25b-4434-bf0e-3924dfe2c077",
   "metadata": {},
   "outputs": [],
   "source": [
    "import pdfplumber\n",
    "from datetime import datetime, timedelta\n",
    "import locale\n",
    "from glob import glob\n",
    "import pandas as pd"
   ]
  },
  {
   "cell_type": "code",
   "execution_count": 18,
   "id": "886d8538-006b-452f-9227-46324d044e0a",
   "metadata": {},
   "outputs": [],
   "source": [
    "def getAceites(pdf_file):\n",
    "  print(pdf_file)\n",
    "  title_raw = pdf_file[pdf_file.rfind('\\\\') + 1 :pdf_file.find('.pdf')]\n",
    "  title = title_raw[:title_raw.find('Dupont_') + 7]\n",
    "  date_raw = title_raw[title_raw.find('Dupont_') + 7:]\n",
    "  date = datetime.strptime(date_raw,'%B_%Y')\n",
    "  title_in_CSV = title[title.rfind('/'):] + date.strftime(\"%Y-%m\")\n",
    "  print(title_in_CSV)\n",
    "  with pdfplumber.open(pdf_file) as pdf :\n",
    "    data = []\n",
    "    for page in pdf.pages:\n",
    "      content = page.extract_text()\n",
    "      if 'Aceites' in content:\n",
    "        rows = content.split('\\n')\n",
    "        for row in rows:\n",
    "          if row.find('Vinos de Autor') != -1 or row.find('Página') != -1:\n",
    "            continue\n",
    "          if row.find('Caja') != -1:\n",
    "            bodega = row[:row.find('Caja') -1]\n",
    "            bodega = bodega.strip()\n",
    "            print(bodega)\n",
    "          else:\n",
    "            name = row[:row.find('$') -1]\n",
    "            if name.find(\"(caja\") != -1:\n",
    "              name = name[:name.find(\"(caja\")]\n",
    "            name = name.strip()\n",
    "            precio = row[row.rfind('$') +1:row.rfind('\\n')]\n",
    "            precio = precio.replace(' ', '')\n",
    "            precio = precio.replace('.', '')\n",
    "            precio = precio[:precio.find(',')]\n",
    "            precio = precio.strip()\n",
    "            try:\n",
    "              precio = int(precio)\n",
    "            except:\n",
    "              continue\n",
    "            info = {\n",
    "              'aceite': name,\n",
    "              'bodega': bodega,\n",
    "              'precio': precio,\n",
    "              'fecha': date\n",
    "            }\n",
    "            data.append(info)\n",
    "    print(data)\n",
    "  return [title_in_CSV, data]"
   ]
  },
  {
   "cell_type": "code",
   "execution_count": 27,
   "id": "813539b4-1562-42af-9457-dfa056bef176",
   "metadata": {},
   "outputs": [
    {
     "ename": "Error",
     "evalue": "unsupported locale setting",
     "output_type": "error",
     "traceback": [
      "\u001b[0;31m---------------------------------------------------------------------------\u001b[0m",
      "\u001b[0;31mError\u001b[0m                                     Traceback (most recent call last)",
      "Input \u001b[0;32mIn [27]\u001b[0m, in \u001b[0;36m<cell line: 5>\u001b[0;34m()\u001b[0m\n\u001b[1;32m      2\u001b[0m direcotry_vinos_csvs \u001b[38;5;241m=\u001b[39m \u001b[38;5;124m'\u001b[39m\u001b[38;5;124m/project/csvs/\u001b[39m\u001b[38;5;124m'\u001b[39m\n\u001b[1;32m      3\u001b[0m \u001b[38;5;66;03m#locale.setlocale(locale.LC_TIME, 'es_ES.UTF-8')\u001b[39;00m\n\u001b[1;32m      4\u001b[0m \u001b[38;5;66;03m#locale.setlocale(locale.LC_TIME, 'es_ES')\u001b[39;00m\n\u001b[0;32m----> 5\u001b[0m \u001b[43mlocale\u001b[49m\u001b[38;5;241;43m.\u001b[39;49m\u001b[43msetlocale\u001b[49m\u001b[43m(\u001b[49m\u001b[43mlocale\u001b[49m\u001b[38;5;241;43m.\u001b[39;49m\u001b[43mLC_ALL\u001b[49m\u001b[43m,\u001b[49m\u001b[43m \u001b[49m\u001b[38;5;124;43m'\u001b[39;49m\u001b[38;5;124;43mesp\u001b[39;49m\u001b[38;5;124;43m'\u001b[39;49m\u001b[43m)\u001b[49m\n",
      "File \u001b[0;32m/opt/conda/lib/python3.9/locale.py:610\u001b[0m, in \u001b[0;36msetlocale\u001b[0;34m(category, locale)\u001b[0m\n\u001b[1;32m    607\u001b[0m \u001b[38;5;28;01mif\u001b[39;00m locale \u001b[38;5;129;01mand\u001b[39;00m \u001b[38;5;129;01mnot\u001b[39;00m \u001b[38;5;28misinstance\u001b[39m(locale, _builtin_str):\n\u001b[1;32m    608\u001b[0m     \u001b[38;5;66;03m# convert to string\u001b[39;00m\n\u001b[1;32m    609\u001b[0m     locale \u001b[38;5;241m=\u001b[39m normalize(_build_localename(locale))\n\u001b[0;32m--> 610\u001b[0m \u001b[38;5;28;01mreturn\u001b[39;00m \u001b[43m_setlocale\u001b[49m\u001b[43m(\u001b[49m\u001b[43mcategory\u001b[49m\u001b[43m,\u001b[49m\u001b[43m \u001b[49m\u001b[43mlocale\u001b[49m\u001b[43m)\u001b[49m\n",
      "\u001b[0;31mError\u001b[0m: unsupported locale setting"
     ]
    }
   ],
   "source": [
    "directory_pdfs = '/project/pdfs/'\n",
    "direcotry_vinos_csvs = '/project/csvs/'\n",
    "#locale.setlocale(locale.LC_TIME, 'es_ES.UTF-8')\n",
    "#locale.setlocale(locale.LC_TIME, 'es_ES')\n",
    "locale.setlocale(locale.LC_ALL, 'esp')  "
   ]
  },
  {
   "cell_type": "code",
   "execution_count": 20,
   "id": "3fc4d6fb-4b4c-408b-97d3-6d4c94acb0e2",
   "metadata": {},
   "outputs": [
    {
     "name": "stdout",
     "output_type": "stream",
     "text": [
      "['/project/pdfs/Lista_de_Precios_Cava_de_Dupont_Abril_2018.pdf', '/project/pdfs/Lista_de_Precios_Cava_de_Dupont_Abril_2019.pdf', '/project/pdfs/Lista_de_Precios_Cava_de_Dupont_Abril_2020.pdf', '/project/pdfs/Lista_de_Precios_Cava_de_Dupont_Abril_2021.pdf', '/project/pdfs/Lista_de_Precios_Cava_de_Dupont_Abril_2022.pdf', '/project/pdfs/Lista_de_Precios_Cava_de_Dupont_Agosto_2018.pdf', '/project/pdfs/Lista_de_Precios_Cava_de_Dupont_Agosto_2019.pdf', '/project/pdfs/Lista_de_Precios_Cava_de_Dupont_Agosto_2020.pdf', '/project/pdfs/Lista_de_Precios_Cava_de_Dupont_Agosto_2021.pdf', '/project/pdfs/Lista_de_Precios_Cava_de_Dupont_Agosto_2022.pdf', '/project/pdfs/Lista_de_Precios_Cava_de_Dupont_Diciembre_2017.pdf', '/project/pdfs/Lista_de_Precios_Cava_de_Dupont_Diciembre_2018.pdf', '/project/pdfs/Lista_de_Precios_Cava_de_Dupont_Diciembre_2019.pdf', '/project/pdfs/Lista_de_Precios_Cava_de_Dupont_Diciembre_2020.pdf', '/project/pdfs/Lista_de_Precios_Cava_de_Dupont_Diciembre_2021.pdf', '/project/pdfs/Lista_de_Precios_Cava_de_Dupont_Enero_2018.pdf', '/project/pdfs/Lista_de_Precios_Cava_de_Dupont_Enero_2019.pdf', '/project/pdfs/Lista_de_Precios_Cava_de_Dupont_Enero_2020.pdf', '/project/pdfs/Lista_de_Precios_Cava_de_Dupont_Enero_2021.pdf', '/project/pdfs/Lista_de_Precios_Cava_de_Dupont_Enero_2022.pdf', '/project/pdfs/Lista_de_Precios_Cava_de_Dupont_Febrero_2018.pdf', '/project/pdfs/Lista_de_Precios_Cava_de_Dupont_Febrero_2019.pdf', '/project/pdfs/Lista_de_Precios_Cava_de_Dupont_Febrero_2020.pdf', '/project/pdfs/Lista_de_Precios_Cava_de_Dupont_Febrero_2021.pdf', '/project/pdfs/Lista_de_Precios_Cava_de_Dupont_Febrero_2022.pdf', '/project/pdfs/Lista_de_Precios_Cava_de_Dupont_Julio_2018.pdf', '/project/pdfs/Lista_de_Precios_Cava_de_Dupont_Julio_2019.pdf', '/project/pdfs/Lista_de_Precios_Cava_de_Dupont_Julio_2020.pdf', '/project/pdfs/Lista_de_Precios_Cava_de_Dupont_Julio_2021.pdf', '/project/pdfs/Lista_de_Precios_Cava_de_Dupont_Julio_2022.pdf', '/project/pdfs/Lista_de_Precios_Cava_de_Dupont_Junio_2018.pdf', '/project/pdfs/Lista_de_Precios_Cava_de_Dupont_Junio_2019.pdf', '/project/pdfs/Lista_de_Precios_Cava_de_Dupont_Junio_2020.pdf', '/project/pdfs/Lista_de_Precios_Cava_de_Dupont_Junio_2021.pdf', '/project/pdfs/Lista_de_Precios_Cava_de_Dupont_Junio_2022.pdf', '/project/pdfs/Lista_de_Precios_Cava_de_Dupont_Marzo_2018.pdf', '/project/pdfs/Lista_de_Precios_Cava_de_Dupont_Marzo_2019.pdf', '/project/pdfs/Lista_de_Precios_Cava_de_Dupont_Marzo_2020.pdf', '/project/pdfs/Lista_de_Precios_Cava_de_Dupont_Marzo_2021.pdf', '/project/pdfs/Lista_de_Precios_Cava_de_Dupont_Marzo_2022.pdf', '/project/pdfs/Lista_de_Precios_Cava_de_Dupont_Mayo_2018.pdf', '/project/pdfs/Lista_de_Precios_Cava_de_Dupont_Mayo_2019.pdf', '/project/pdfs/Lista_de_Precios_Cava_de_Dupont_Mayo_2020.pdf', '/project/pdfs/Lista_de_Precios_Cava_de_Dupont_Mayo_2021.pdf', '/project/pdfs/Lista_de_Precios_Cava_de_Dupont_Mayo_2022.pdf', '/project/pdfs/Lista_de_Precios_Cava_de_Dupont_Noviembre_2017.pdf', '/project/pdfs/Lista_de_Precios_Cava_de_Dupont_Noviembre_2018.pdf', '/project/pdfs/Lista_de_Precios_Cava_de_Dupont_Noviembre_2019.pdf', '/project/pdfs/Lista_de_Precios_Cava_de_Dupont_Noviembre_2020.pdf', '/project/pdfs/Lista_de_Precios_Cava_de_Dupont_Noviembre_2021.pdf', '/project/pdfs/Lista_de_Precios_Cava_de_Dupont_Octubre_2018.pdf', '/project/pdfs/Lista_de_Precios_Cava_de_Dupont_Octubre_2019.pdf', '/project/pdfs/Lista_de_Precios_Cava_de_Dupont_Octubre_2020.pdf', '/project/pdfs/Lista_de_Precios_Cava_de_Dupont_Octubre_2021.pdf', '/project/pdfs/Lista_de_Precios_Cava_de_Dupont_Octubre_2022.pdf', '/project/pdfs/Lista_de_Precios_Cava_de_Dupont_Septiembre_2018.pdf', '/project/pdfs/Lista_de_Precios_Cava_de_Dupont_Septiembre_2019.pdf', '/project/pdfs/Lista_de_Precios_Cava_de_Dupont_Septiembre_2020.pdf', '/project/pdfs/Lista_de_Precios_Cava_de_Dupont_Septiembre_2021.pdf', '/project/pdfs/Lista_de_Precios_Cava_de_Dupont_Septiembre_2022.pdf']\n",
      "/project/pdfs/Lista_de_Precios_Cava_de_Dupont_Abril_2018.pdf\n",
      "/project/pdfs/Lista_de_Precios_Cava_de_Dupont_Abril_2018.pdf\n",
      "Abril_2018\n"
     ]
    },
    {
     "ename": "ValueError",
     "evalue": "time data 'Abril_2018' does not match format '%B_%Y'",
     "output_type": "error",
     "traceback": [
      "\u001b[0;31m---------------------------------------------------------------------------\u001b[0m",
      "\u001b[0;31mValueError\u001b[0m                                Traceback (most recent call last)",
      "Input \u001b[0;32mIn [20]\u001b[0m, in \u001b[0;36m<cell line: 4>\u001b[0;34m()\u001b[0m\n\u001b[1;32m      4\u001b[0m \u001b[38;5;28;01mfor\u001b[39;00m file \u001b[38;5;129;01min\u001b[39;00m listPDF:\n\u001b[1;32m      5\u001b[0m     \u001b[38;5;28mprint\u001b[39m(file)\n\u001b[0;32m----> 6\u001b[0m     listContent \u001b[38;5;241m=\u001b[39m \u001b[43mgetInfoPDF\u001b[49m\u001b[43m(\u001b[49m\u001b[43mfile\u001b[49m\u001b[43m)\u001b[49m\n\u001b[1;32m      7\u001b[0m     \u001b[38;5;28mprint\u001b[39m(listContent[\u001b[38;5;241m0\u001b[39m])\n\u001b[1;32m      8\u001b[0m     df \u001b[38;5;241m=\u001b[39m pd\u001b[38;5;241m.\u001b[39mDataFrame(listContent[\u001b[38;5;241m1\u001b[39m])\n",
      "Input \u001b[0;32mIn [14]\u001b[0m, in \u001b[0;36mgetInfoPDF\u001b[0;34m(pdf_file)\u001b[0m\n\u001b[1;32m      5\u001b[0m date_raw \u001b[38;5;241m=\u001b[39m title_raw[title_raw\u001b[38;5;241m.\u001b[39mfind(\u001b[38;5;124m'\u001b[39m\u001b[38;5;124mDupont_\u001b[39m\u001b[38;5;124m'\u001b[39m) \u001b[38;5;241m+\u001b[39m \u001b[38;5;241m7\u001b[39m:]\n\u001b[1;32m      6\u001b[0m \u001b[38;5;28mprint\u001b[39m(date_raw)\n\u001b[0;32m----> 7\u001b[0m date \u001b[38;5;241m=\u001b[39m \u001b[43mdatetime\u001b[49m\u001b[38;5;241;43m.\u001b[39;49m\u001b[43mstrptime\u001b[49m\u001b[43m(\u001b[49m\u001b[43mdate_raw\u001b[49m\u001b[43m,\u001b[49m\u001b[38;5;124;43m'\u001b[39;49m\u001b[38;5;124;43m%\u001b[39;49m\u001b[38;5;124;43mB_\u001b[39;49m\u001b[38;5;124;43m%\u001b[39;49m\u001b[38;5;124;43mY\u001b[39;49m\u001b[38;5;124;43m'\u001b[39;49m\u001b[43m)\u001b[49m\n\u001b[1;32m      8\u001b[0m title_in_CSV \u001b[38;5;241m=\u001b[39m title[title\u001b[38;5;241m.\u001b[39mrfind(\u001b[38;5;124m'\u001b[39m\u001b[38;5;124m/\u001b[39m\u001b[38;5;124m'\u001b[39m):] \u001b[38;5;241m+\u001b[39m date\u001b[38;5;241m.\u001b[39mstrftime(\u001b[38;5;124m\"\u001b[39m\u001b[38;5;124m%\u001b[39m\u001b[38;5;124mY-\u001b[39m\u001b[38;5;124m%\u001b[39m\u001b[38;5;124mm\u001b[39m\u001b[38;5;124m\"\u001b[39m)\n\u001b[1;32m      9\u001b[0m \u001b[38;5;28mprint\u001b[39m(title_in_CSV)\n",
      "File \u001b[0;32m/opt/conda/lib/python3.9/_strptime.py:568\u001b[0m, in \u001b[0;36m_strptime_datetime\u001b[0;34m(cls, data_string, format)\u001b[0m\n\u001b[1;32m    565\u001b[0m \u001b[38;5;28;01mdef\u001b[39;00m \u001b[38;5;21m_strptime_datetime\u001b[39m(\u001b[38;5;28mcls\u001b[39m, data_string, \u001b[38;5;28mformat\u001b[39m\u001b[38;5;241m=\u001b[39m\u001b[38;5;124m\"\u001b[39m\u001b[38;5;132;01m%a\u001b[39;00m\u001b[38;5;124m \u001b[39m\u001b[38;5;124m%\u001b[39m\u001b[38;5;124mb \u001b[39m\u001b[38;5;132;01m%d\u001b[39;00m\u001b[38;5;124m \u001b[39m\u001b[38;5;124m%\u001b[39m\u001b[38;5;124mH:\u001b[39m\u001b[38;5;124m%\u001b[39m\u001b[38;5;124mM:\u001b[39m\u001b[38;5;124m%\u001b[39m\u001b[38;5;124mS \u001b[39m\u001b[38;5;124m%\u001b[39m\u001b[38;5;124mY\u001b[39m\u001b[38;5;124m\"\u001b[39m):\n\u001b[1;32m    566\u001b[0m     \u001b[38;5;124;03m\"\"\"Return a class cls instance based on the input string and the\u001b[39;00m\n\u001b[1;32m    567\u001b[0m \u001b[38;5;124;03m    format string.\"\"\"\u001b[39;00m\n\u001b[0;32m--> 568\u001b[0m     tt, fraction, gmtoff_fraction \u001b[38;5;241m=\u001b[39m \u001b[43m_strptime\u001b[49m\u001b[43m(\u001b[49m\u001b[43mdata_string\u001b[49m\u001b[43m,\u001b[49m\u001b[43m \u001b[49m\u001b[38;5;28;43mformat\u001b[39;49m\u001b[43m)\u001b[49m\n\u001b[1;32m    569\u001b[0m     tzname, gmtoff \u001b[38;5;241m=\u001b[39m tt[\u001b[38;5;241m-\u001b[39m\u001b[38;5;241m2\u001b[39m:]\n\u001b[1;32m    570\u001b[0m     args \u001b[38;5;241m=\u001b[39m tt[:\u001b[38;5;241m6\u001b[39m] \u001b[38;5;241m+\u001b[39m (fraction,)\n",
      "File \u001b[0;32m/opt/conda/lib/python3.9/_strptime.py:349\u001b[0m, in \u001b[0;36m_strptime\u001b[0;34m(data_string, format)\u001b[0m\n\u001b[1;32m    347\u001b[0m found \u001b[38;5;241m=\u001b[39m format_regex\u001b[38;5;241m.\u001b[39mmatch(data_string)\n\u001b[1;32m    348\u001b[0m \u001b[38;5;28;01mif\u001b[39;00m \u001b[38;5;129;01mnot\u001b[39;00m found:\n\u001b[0;32m--> 349\u001b[0m     \u001b[38;5;28;01mraise\u001b[39;00m \u001b[38;5;167;01mValueError\u001b[39;00m(\u001b[38;5;124m\"\u001b[39m\u001b[38;5;124mtime data \u001b[39m\u001b[38;5;132;01m%r\u001b[39;00m\u001b[38;5;124m does not match format \u001b[39m\u001b[38;5;132;01m%r\u001b[39;00m\u001b[38;5;124m\"\u001b[39m \u001b[38;5;241m%\u001b[39m\n\u001b[1;32m    350\u001b[0m                      (data_string, \u001b[38;5;28mformat\u001b[39m))\n\u001b[1;32m    351\u001b[0m \u001b[38;5;28;01mif\u001b[39;00m \u001b[38;5;28mlen\u001b[39m(data_string) \u001b[38;5;241m!=\u001b[39m found\u001b[38;5;241m.\u001b[39mend():\n\u001b[1;32m    352\u001b[0m     \u001b[38;5;28;01mraise\u001b[39;00m \u001b[38;5;167;01mValueError\u001b[39;00m(\u001b[38;5;124m\"\u001b[39m\u001b[38;5;124munconverted data remains: \u001b[39m\u001b[38;5;132;01m%s\u001b[39;00m\u001b[38;5;124m\"\u001b[39m \u001b[38;5;241m%\u001b[39m\n\u001b[1;32m    353\u001b[0m                       data_string[found\u001b[38;5;241m.\u001b[39mend():])\n",
      "\u001b[0;31mValueError\u001b[0m: time data 'Abril_2018' does not match format '%B_%Y'"
     ]
    }
   ],
   "source": [
    "listPDF = glob(directory_pdfs + \"*pdf\")\n",
    "print(listPDF)\n",
    "count = 0\n",
    "for file in listPDF:\n",
    "    print(file)\n",
    "    listContent = getInfoPDF(file)\n",
    "    print(listContent[0])\n",
    "    df = pd.DataFrame(listContent[1])\n",
    "    print(df)\n",
    "    #df.to_csv(direcotry_vinos_csvs + listContent[0] + \".csv\", index = False)"
   ]
  },
  {
   "cell_type": "code",
   "execution_count": null,
   "id": "cfa040b9-5761-45b7-8ffc-1e88585ef44c",
   "metadata": {},
   "outputs": [],
   "source": []
  }
 ],
 "metadata": {
  "kernelspec": {
   "display_name": "Python 3 (ipykernel)",
   "language": "python",
   "name": "python3"
  },
  "language_info": {
   "codemirror_mode": {
    "name": "ipython",
    "version": 3
   },
   "file_extension": ".py",
   "mimetype": "text/x-python",
   "name": "python",
   "nbconvert_exporter": "python",
   "pygments_lexer": "ipython3",
   "version": "3.9.12"
  }
 },
 "nbformat": 4,
 "nbformat_minor": 5
}
